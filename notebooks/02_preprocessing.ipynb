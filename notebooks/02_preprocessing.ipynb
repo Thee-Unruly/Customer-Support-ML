{
 "cells": [
  {
   "cell_type": "code",
   "execution_count": 5,
   "id": "731e5ef7",
   "metadata": {},
   "outputs": [
    {
     "name": "stdout",
     "output_type": "stream",
     "text": [
      "Original Shape: (8469, 17)\n",
      "Shape after dropping missing resolution/satisfaction: (2769, 17)\n",
      "Median First Response Time (hours): 21303.618055555555\n",
      "Preprocessing complete. Processed data saved to '../data/processed/processed_tickets.csv'.\n"
     ]
    }
   ],
   "source": [
    "# 02_preprocessing.ipynb\n",
    "# Data Preprocessing and Feature Engineering for Customer Support Ticket Dataset\n",
    "\n",
    "import pandas as pd\n",
    "from sklearn.preprocessing import LabelEncoder\n",
    "from sklearn.feature_extraction.text import TfidfVectorizer\n",
    "import pickle\n",
    "\n",
    "# Load dataset\n",
    "df = pd.read_csv('../data/customer_support_tickets.csv')\n",
    "print(\"Original Shape:\", df.shape)\n",
    "\n",
    "# Handle missing values\n",
    "# Drop rows where 'Time to Resolution' and 'Customer Satisfaction Rating' are missing (open tickets)\n",
    "df = df.dropna(subset=['Time to Resolution', 'Customer Satisfaction Rating'])\n",
    "print(\"Shape after dropping missing resolution/satisfaction:\", df.shape)\n",
    "\n",
    "# Convert 'First Response Time' and 'Date of Purchase' to datetime\n",
    "df['First Response Time'] = pd.to_datetime(df['First Response Time'])\n",
    "df['Date of Purchase'] = pd.to_datetime(df['Date of Purchase'])\n",
    "\n",
    "# Impute 'First Response Time' with median time difference from 'Date of Purchase'\n",
    "df['First Response Time Delta'] = (df['First Response Time'] - df['Date of Purchase']).dt.total_seconds() / 3600  # Convert to hours\n",
    "median_response_time = df['First Response Time Delta'].median()\n",
    "df['First Response Time Delta'] = df['First Response Time Delta'].fillna(median_response_time)\n",
    "print(\"Median First Response Time (hours):\", median_response_time)\n",
    "\n",
    "# Fill 'Resolution' with placeholder for NLP tasks\n",
    "df['Resolution'] = df['Resolution'].fillna('No resolution provided')\n",
    "\n",
    "# Encode categorical variables\n",
    "le_type = LabelEncoder()\n",
    "le_channel = LabelEncoder()\n",
    "le_product = LabelEncoder()\n",
    "le_priority = LabelEncoder()\n",
    "\n",
    "df['Ticket Type Enc'] = le_type.fit_transform(df['Ticket Type'])\n",
    "df['Ticket Channel Enc'] = le_channel.fit_transform(df['Ticket Channel'])\n",
    "df['Product Enc'] = le_product.fit_transform(df['Product Purchased'])\n",
    "df['Ticket Priority Enc'] = le_priority.fit_transform(df['Ticket Priority'])\n",
    "\n",
    "# Extract date features\n",
    "df['Purchase Day'] = df['Date of Purchase'].dt.dayofweek\n",
    "df['Purchase Month'] = df['Date of Purchase'].dt.month\n",
    "\n",
    "# NLP features for Ticket Description\n",
    "vectorizer = TfidfVectorizer(max_features=100)\n",
    "nlp_features = vectorizer.fit_transform(df['Ticket Description']).toarray()\n",
    "nlp_cols = [f'text_{i}' for i in range(nlp_features.shape[1])]\n",
    "df_nlp = pd.DataFrame(nlp_features, columns=nlp_cols, index=df.index)\n",
    "df = pd.concat([df, df_nlp], axis=1)\n",
    "\n",
    "# Save processed data and encoders\n",
    "df.to_csv('../data/processed/processed_tickets.csv', index=False)\n",
    "with open('../models/label_encoder_type.pkl', 'wb') as f:\n",
    "    pickle.dump(le_type, f)\n",
    "with open('../models/label_encoder_channel.pkl', 'wb') as f:\n",
    "    pickle.dump(le_channel, f)\n",
    "with open('../models/label_encoder_product.pkl', 'wb') as f:\n",
    "    pickle.dump(le_product, f)\n",
    "with open('../models/label_encoder_priority.pkl', 'wb') as f:\n",
    "    pickle.dump(le_priority, f)\n",
    "with open('../models/tfidf_vectorizer.pkl', 'wb') as f:\n",
    "    pickle.dump(vectorizer, f)\n",
    "\n",
    "print(\"Preprocessing complete. Processed data saved to '../data/processed/processed_tickets.csv'.\")"
   ]
  }
 ],
 "metadata": {
  "kernelspec": {
   "display_name": ".venv (3.12.10)",
   "language": "python",
   "name": "python3"
  },
  "language_info": {
   "codemirror_mode": {
    "name": "ipython",
    "version": 3
   },
   "file_extension": ".py",
   "mimetype": "text/x-python",
   "name": "python",
   "nbconvert_exporter": "python",
   "pygments_lexer": "ipython3",
   "version": "3.12.10"
  }
 },
 "nbformat": 4,
 "nbformat_minor": 5
}
